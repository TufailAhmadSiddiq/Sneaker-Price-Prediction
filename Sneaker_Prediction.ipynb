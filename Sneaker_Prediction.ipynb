{
 "cells": [
  {
   "cell_type": "code",
   "execution_count": 45,
   "id": "7a823952",
   "metadata": {},
   "outputs": [],
   "source": [
    "import os\n",
    "import pandas as pd\n",
    "from sklearn.preprocessing import LabelEncoder\n",
    "from sklearn.linear_model import LinearRegression\n",
    "import pickle as pkl\n",
    "import warnings\n",
    "warnings.filterwarnings(\"ignore\")"
   ]
  },
  {
   "cell_type": "code",
   "execution_count": 46,
   "id": "e9300a53",
   "metadata": {},
   "outputs": [
    {
     "data": {
      "text/html": [
       "<div>\n",
       "<style scoped>\n",
       "    .dataframe tbody tr th:only-of-type {\n",
       "        vertical-align: middle;\n",
       "    }\n",
       "\n",
       "    .dataframe tbody tr th {\n",
       "        vertical-align: top;\n",
       "    }\n",
       "\n",
       "    .dataframe thead th {\n",
       "        text-align: right;\n",
       "    }\n",
       "</style>\n",
       "<table border=\"1\" class=\"dataframe\">\n",
       "  <thead>\n",
       "    <tr style=\"text-align: right;\">\n",
       "      <th></th>\n",
       "      <th>Order Date</th>\n",
       "      <th>Brand</th>\n",
       "      <th>Sneaker Name</th>\n",
       "      <th>Sale Price</th>\n",
       "      <th>Retail Price</th>\n",
       "      <th>Release Date</th>\n",
       "      <th>Shoe Size</th>\n",
       "      <th>Buyer Region</th>\n",
       "    </tr>\n",
       "  </thead>\n",
       "  <tbody>\n",
       "    <tr>\n",
       "      <th>0</th>\n",
       "      <td>09/01/2017</td>\n",
       "      <td>Yeezy</td>\n",
       "      <td>Adidas-Yeezy-Boost-350-Low-V2-Beluga</td>\n",
       "      <td>$1,097</td>\n",
       "      <td>$220</td>\n",
       "      <td>9/24/2016</td>\n",
       "      <td>11.0</td>\n",
       "      <td>California</td>\n",
       "    </tr>\n",
       "    <tr>\n",
       "      <th>1</th>\n",
       "      <td>09/01/2017</td>\n",
       "      <td>Yeezy</td>\n",
       "      <td>Adidas-Yeezy-Boost-350-V2-Core-Black-Copper</td>\n",
       "      <td>$685</td>\n",
       "      <td>$220</td>\n",
       "      <td>11/23/2016</td>\n",
       "      <td>11.0</td>\n",
       "      <td>California</td>\n",
       "    </tr>\n",
       "    <tr>\n",
       "      <th>2</th>\n",
       "      <td>09/01/2017</td>\n",
       "      <td>Yeezy</td>\n",
       "      <td>Adidas-Yeezy-Boost-350-V2-Core-Black-Green</td>\n",
       "      <td>$690</td>\n",
       "      <td>$220</td>\n",
       "      <td>11/23/2016</td>\n",
       "      <td>11.0</td>\n",
       "      <td>California</td>\n",
       "    </tr>\n",
       "    <tr>\n",
       "      <th>3</th>\n",
       "      <td>09/01/2017</td>\n",
       "      <td>Yeezy</td>\n",
       "      <td>Adidas-Yeezy-Boost-350-V2-Core-Black-Red</td>\n",
       "      <td>$1,075</td>\n",
       "      <td>$220</td>\n",
       "      <td>11/23/2016</td>\n",
       "      <td>11.5</td>\n",
       "      <td>Kentucky</td>\n",
       "    </tr>\n",
       "    <tr>\n",
       "      <th>4</th>\n",
       "      <td>09/01/2017</td>\n",
       "      <td>Yeezy</td>\n",
       "      <td>Adidas-Yeezy-Boost-350-V2-Core-Black-Red-2017</td>\n",
       "      <td>$828</td>\n",
       "      <td>$220</td>\n",
       "      <td>02/11/2017</td>\n",
       "      <td>11.0</td>\n",
       "      <td>Rhode Island</td>\n",
       "    </tr>\n",
       "    <tr>\n",
       "      <th>...</th>\n",
       "      <td>...</td>\n",
       "      <td>...</td>\n",
       "      <td>...</td>\n",
       "      <td>...</td>\n",
       "      <td>...</td>\n",
       "      <td>...</td>\n",
       "      <td>...</td>\n",
       "      <td>...</td>\n",
       "    </tr>\n",
       "    <tr>\n",
       "      <th>99951</th>\n",
       "      <td>2/13/2019</td>\n",
       "      <td>Yeezy</td>\n",
       "      <td>adidas-Yeezy-Boost-350-V2-Static-Reflective</td>\n",
       "      <td>$565</td>\n",
       "      <td>$220</td>\n",
       "      <td>12/26/2018</td>\n",
       "      <td>8.0</td>\n",
       "      <td>Oregon</td>\n",
       "    </tr>\n",
       "    <tr>\n",
       "      <th>99952</th>\n",
       "      <td>2/13/2019</td>\n",
       "      <td>Yeezy</td>\n",
       "      <td>adidas-Yeezy-Boost-350-V2-Static-Reflective</td>\n",
       "      <td>$598</td>\n",
       "      <td>$220</td>\n",
       "      <td>12/26/2018</td>\n",
       "      <td>8.5</td>\n",
       "      <td>California</td>\n",
       "    </tr>\n",
       "    <tr>\n",
       "      <th>99953</th>\n",
       "      <td>2/13/2019</td>\n",
       "      <td>Yeezy</td>\n",
       "      <td>adidas-Yeezy-Boost-350-V2-Static-Reflective</td>\n",
       "      <td>$605</td>\n",
       "      <td>$220</td>\n",
       "      <td>12/26/2018</td>\n",
       "      <td>5.5</td>\n",
       "      <td>New York</td>\n",
       "    </tr>\n",
       "    <tr>\n",
       "      <th>99954</th>\n",
       "      <td>2/13/2019</td>\n",
       "      <td>Yeezy</td>\n",
       "      <td>adidas-Yeezy-Boost-350-V2-Static-Reflective</td>\n",
       "      <td>$650</td>\n",
       "      <td>$220</td>\n",
       "      <td>12/26/2018</td>\n",
       "      <td>11.0</td>\n",
       "      <td>California</td>\n",
       "    </tr>\n",
       "    <tr>\n",
       "      <th>99955</th>\n",
       "      <td>2/13/2019</td>\n",
       "      <td>Yeezy</td>\n",
       "      <td>adidas-Yeezy-Boost-350-V2-Static-Reflective</td>\n",
       "      <td>$640</td>\n",
       "      <td>$220</td>\n",
       "      <td>12/26/2018</td>\n",
       "      <td>11.5</td>\n",
       "      <td>Texas</td>\n",
       "    </tr>\n",
       "  </tbody>\n",
       "</table>\n",
       "<p>99956 rows × 8 columns</p>\n",
       "</div>"
      ],
      "text/plain": [
       "       Order Date   Brand                                   Sneaker Name  \\\n",
       "0      09/01/2017   Yeezy           Adidas-Yeezy-Boost-350-Low-V2-Beluga   \n",
       "1      09/01/2017   Yeezy    Adidas-Yeezy-Boost-350-V2-Core-Black-Copper   \n",
       "2      09/01/2017   Yeezy     Adidas-Yeezy-Boost-350-V2-Core-Black-Green   \n",
       "3      09/01/2017   Yeezy       Adidas-Yeezy-Boost-350-V2-Core-Black-Red   \n",
       "4      09/01/2017   Yeezy  Adidas-Yeezy-Boost-350-V2-Core-Black-Red-2017   \n",
       "...           ...     ...                                            ...   \n",
       "99951   2/13/2019   Yeezy    adidas-Yeezy-Boost-350-V2-Static-Reflective   \n",
       "99952   2/13/2019   Yeezy    adidas-Yeezy-Boost-350-V2-Static-Reflective   \n",
       "99953   2/13/2019   Yeezy    adidas-Yeezy-Boost-350-V2-Static-Reflective   \n",
       "99954   2/13/2019   Yeezy    adidas-Yeezy-Boost-350-V2-Static-Reflective   \n",
       "99955   2/13/2019   Yeezy    adidas-Yeezy-Boost-350-V2-Static-Reflective   \n",
       "\n",
       "      Sale Price Retail Price Release Date  Shoe Size  Buyer Region  \n",
       "0         $1,097         $220    9/24/2016       11.0    California  \n",
       "1           $685         $220   11/23/2016       11.0    California  \n",
       "2           $690         $220   11/23/2016       11.0    California  \n",
       "3         $1,075         $220   11/23/2016       11.5      Kentucky  \n",
       "4           $828         $220   02/11/2017       11.0  Rhode Island  \n",
       "...          ...          ...          ...        ...           ...  \n",
       "99951       $565         $220   12/26/2018        8.0        Oregon  \n",
       "99952       $598         $220   12/26/2018        8.5    California  \n",
       "99953       $605         $220   12/26/2018        5.5      New York  \n",
       "99954       $650         $220   12/26/2018       11.0    California  \n",
       "99955       $640         $220   12/26/2018       11.5         Texas  \n",
       "\n",
       "[99956 rows x 8 columns]"
      ]
     },
     "execution_count": 46,
     "metadata": {},
     "output_type": "execute_result"
    }
   ],
   "source": [
    "data = pd.read_csv(os.path.join('Data','StockX Dataset.csv'))\n",
    "data"
   ]
  },
  {
   "cell_type": "code",
   "execution_count": 47,
   "id": "bd212f62",
   "metadata": {},
   "outputs": [],
   "source": [
    "data[['Order Day', 'Order Month', 'Order Year']] = data['Order Date'].str.split('/', expand=True)\n",
    "data[['Release Day', 'Release Month', 'Release Year']] = data['Release Date'].str.split('/', expand=True)"
   ]
  },
  {
   "cell_type": "code",
   "execution_count": 48,
   "id": "2770d652",
   "metadata": {},
   "outputs": [],
   "source": [
    "data = data[['Order Day', 'Order Month', 'Order Year', \n",
    "             'Release Day', 'Release Month', 'Release Year',\n",
    "             'Brand', 'Sneaker Name', 'Shoe Size', \n",
    "             'Buyer Region', 'Retail Price', 'Sale Price']]"
   ]
  },
  {
   "cell_type": "code",
   "execution_count": 49,
   "id": "bc906978",
   "metadata": {},
   "outputs": [],
   "source": [
    "data['Order Day'] = pd.to_numeric(data['Order Day'])\n",
    "data['Order Month'] = pd.to_numeric(data['Order Month'])\n",
    "data['Order Year'] = pd.to_numeric(data['Order Year'])\n",
    "\n",
    "data['Release Day'] = pd.to_numeric(data['Release Day'])\n",
    "data['Release Month'] = pd.to_numeric(data['Release Month'])\n",
    "data['Release Year'] = pd.to_numeric(data['Release Year'])"
   ]
  },
  {
   "cell_type": "code",
   "execution_count": 50,
   "id": "dc9983df",
   "metadata": {},
   "outputs": [],
   "source": [
    "data['Sale Price'] = data['Sale Price'].str[1:].replace(',','',regex=True).apply(pd.to_numeric, errors='coerce')"
   ]
  },
  {
   "cell_type": "code",
   "execution_count": 51,
   "id": "9011a147",
   "metadata": {},
   "outputs": [],
   "source": [
    "data['Retail Price'] = data['Retail Price'].str[1:].replace(',','',regex=True).apply(pd.to_numeric, errors='coerce')"
   ]
  },
  {
   "cell_type": "code",
   "execution_count": 52,
   "id": "5bc9ef9f",
   "metadata": {},
   "outputs": [
    {
     "data": {
      "text/plain": [
       "2"
      ]
     },
     "execution_count": 52,
     "metadata": {},
     "output_type": "execute_result"
    }
   ],
   "source": [
    "len(data['Brand'].unique())"
   ]
  },
  {
   "cell_type": "code",
   "execution_count": 53,
   "id": "0b882b0b",
   "metadata": {},
   "outputs": [
    {
     "data": {
      "text/plain": [
       "50"
      ]
     },
     "execution_count": 53,
     "metadata": {},
     "output_type": "execute_result"
    }
   ],
   "source": [
    "len(data['Sneaker Name'].unique())"
   ]
  },
  {
   "cell_type": "code",
   "execution_count": 54,
   "id": "6ec70584",
   "metadata": {},
   "outputs": [
    {
     "data": {
      "text/plain": [
       "51"
      ]
     },
     "execution_count": 54,
     "metadata": {},
     "output_type": "execute_result"
    }
   ],
   "source": [
    "len(data['Buyer Region'].unique())"
   ]
  },
  {
   "cell_type": "code",
   "execution_count": 55,
   "id": "60653363",
   "metadata": {},
   "outputs": [
    {
     "data": {
      "text/plain": [
       "26"
      ]
     },
     "execution_count": 55,
     "metadata": {},
     "output_type": "execute_result"
    }
   ],
   "source": [
    "len(data['Shoe Size'].unique())"
   ]
  },
  {
   "cell_type": "code",
   "execution_count": 56,
   "id": "79a0d45f",
   "metadata": {},
   "outputs": [],
   "source": [
    "# data['Order Date'] = pd.to_datetime(data['Order Date'])\n",
    "# data['Release Date'] = pd.to_datetime(data['Release Date'])"
   ]
  },
  {
   "cell_type": "code",
   "execution_count": 57,
   "id": "f168b903",
   "metadata": {},
   "outputs": [
    {
     "data": {
      "text/html": [
       "<div>\n",
       "<style scoped>\n",
       "    .dataframe tbody tr th:only-of-type {\n",
       "        vertical-align: middle;\n",
       "    }\n",
       "\n",
       "    .dataframe tbody tr th {\n",
       "        vertical-align: top;\n",
       "    }\n",
       "\n",
       "    .dataframe thead th {\n",
       "        text-align: right;\n",
       "    }\n",
       "</style>\n",
       "<table border=\"1\" class=\"dataframe\">\n",
       "  <thead>\n",
       "    <tr style=\"text-align: right;\">\n",
       "      <th></th>\n",
       "      <th>Order Day</th>\n",
       "      <th>Order Month</th>\n",
       "      <th>Order Year</th>\n",
       "      <th>Release Day</th>\n",
       "      <th>Release Month</th>\n",
       "      <th>Release Year</th>\n",
       "      <th>Brand</th>\n",
       "      <th>Sneaker Name</th>\n",
       "      <th>Shoe Size</th>\n",
       "      <th>Buyer Region</th>\n",
       "      <th>Retail Price</th>\n",
       "      <th>Sale Price</th>\n",
       "    </tr>\n",
       "  </thead>\n",
       "  <tbody>\n",
       "    <tr>\n",
       "      <th>0</th>\n",
       "      <td>9</td>\n",
       "      <td>1</td>\n",
       "      <td>2017</td>\n",
       "      <td>9</td>\n",
       "      <td>24</td>\n",
       "      <td>2016</td>\n",
       "      <td>Yeezy</td>\n",
       "      <td>Adidas-Yeezy-Boost-350-Low-V2-Beluga</td>\n",
       "      <td>11.0</td>\n",
       "      <td>California</td>\n",
       "      <td>220</td>\n",
       "      <td>1097</td>\n",
       "    </tr>\n",
       "    <tr>\n",
       "      <th>1</th>\n",
       "      <td>9</td>\n",
       "      <td>1</td>\n",
       "      <td>2017</td>\n",
       "      <td>11</td>\n",
       "      <td>23</td>\n",
       "      <td>2016</td>\n",
       "      <td>Yeezy</td>\n",
       "      <td>Adidas-Yeezy-Boost-350-V2-Core-Black-Copper</td>\n",
       "      <td>11.0</td>\n",
       "      <td>California</td>\n",
       "      <td>220</td>\n",
       "      <td>685</td>\n",
       "    </tr>\n",
       "    <tr>\n",
       "      <th>2</th>\n",
       "      <td>9</td>\n",
       "      <td>1</td>\n",
       "      <td>2017</td>\n",
       "      <td>11</td>\n",
       "      <td>23</td>\n",
       "      <td>2016</td>\n",
       "      <td>Yeezy</td>\n",
       "      <td>Adidas-Yeezy-Boost-350-V2-Core-Black-Green</td>\n",
       "      <td>11.0</td>\n",
       "      <td>California</td>\n",
       "      <td>220</td>\n",
       "      <td>690</td>\n",
       "    </tr>\n",
       "    <tr>\n",
       "      <th>3</th>\n",
       "      <td>9</td>\n",
       "      <td>1</td>\n",
       "      <td>2017</td>\n",
       "      <td>11</td>\n",
       "      <td>23</td>\n",
       "      <td>2016</td>\n",
       "      <td>Yeezy</td>\n",
       "      <td>Adidas-Yeezy-Boost-350-V2-Core-Black-Red</td>\n",
       "      <td>11.5</td>\n",
       "      <td>Kentucky</td>\n",
       "      <td>220</td>\n",
       "      <td>1075</td>\n",
       "    </tr>\n",
       "    <tr>\n",
       "      <th>4</th>\n",
       "      <td>9</td>\n",
       "      <td>1</td>\n",
       "      <td>2017</td>\n",
       "      <td>2</td>\n",
       "      <td>11</td>\n",
       "      <td>2017</td>\n",
       "      <td>Yeezy</td>\n",
       "      <td>Adidas-Yeezy-Boost-350-V2-Core-Black-Red-2017</td>\n",
       "      <td>11.0</td>\n",
       "      <td>Rhode Island</td>\n",
       "      <td>220</td>\n",
       "      <td>828</td>\n",
       "    </tr>\n",
       "    <tr>\n",
       "      <th>...</th>\n",
       "      <td>...</td>\n",
       "      <td>...</td>\n",
       "      <td>...</td>\n",
       "      <td>...</td>\n",
       "      <td>...</td>\n",
       "      <td>...</td>\n",
       "      <td>...</td>\n",
       "      <td>...</td>\n",
       "      <td>...</td>\n",
       "      <td>...</td>\n",
       "      <td>...</td>\n",
       "      <td>...</td>\n",
       "    </tr>\n",
       "    <tr>\n",
       "      <th>99951</th>\n",
       "      <td>2</td>\n",
       "      <td>13</td>\n",
       "      <td>2019</td>\n",
       "      <td>12</td>\n",
       "      <td>26</td>\n",
       "      <td>2018</td>\n",
       "      <td>Yeezy</td>\n",
       "      <td>adidas-Yeezy-Boost-350-V2-Static-Reflective</td>\n",
       "      <td>8.0</td>\n",
       "      <td>Oregon</td>\n",
       "      <td>220</td>\n",
       "      <td>565</td>\n",
       "    </tr>\n",
       "    <tr>\n",
       "      <th>99952</th>\n",
       "      <td>2</td>\n",
       "      <td>13</td>\n",
       "      <td>2019</td>\n",
       "      <td>12</td>\n",
       "      <td>26</td>\n",
       "      <td>2018</td>\n",
       "      <td>Yeezy</td>\n",
       "      <td>adidas-Yeezy-Boost-350-V2-Static-Reflective</td>\n",
       "      <td>8.5</td>\n",
       "      <td>California</td>\n",
       "      <td>220</td>\n",
       "      <td>598</td>\n",
       "    </tr>\n",
       "    <tr>\n",
       "      <th>99953</th>\n",
       "      <td>2</td>\n",
       "      <td>13</td>\n",
       "      <td>2019</td>\n",
       "      <td>12</td>\n",
       "      <td>26</td>\n",
       "      <td>2018</td>\n",
       "      <td>Yeezy</td>\n",
       "      <td>adidas-Yeezy-Boost-350-V2-Static-Reflective</td>\n",
       "      <td>5.5</td>\n",
       "      <td>New York</td>\n",
       "      <td>220</td>\n",
       "      <td>605</td>\n",
       "    </tr>\n",
       "    <tr>\n",
       "      <th>99954</th>\n",
       "      <td>2</td>\n",
       "      <td>13</td>\n",
       "      <td>2019</td>\n",
       "      <td>12</td>\n",
       "      <td>26</td>\n",
       "      <td>2018</td>\n",
       "      <td>Yeezy</td>\n",
       "      <td>adidas-Yeezy-Boost-350-V2-Static-Reflective</td>\n",
       "      <td>11.0</td>\n",
       "      <td>California</td>\n",
       "      <td>220</td>\n",
       "      <td>650</td>\n",
       "    </tr>\n",
       "    <tr>\n",
       "      <th>99955</th>\n",
       "      <td>2</td>\n",
       "      <td>13</td>\n",
       "      <td>2019</td>\n",
       "      <td>12</td>\n",
       "      <td>26</td>\n",
       "      <td>2018</td>\n",
       "      <td>Yeezy</td>\n",
       "      <td>adidas-Yeezy-Boost-350-V2-Static-Reflective</td>\n",
       "      <td>11.5</td>\n",
       "      <td>Texas</td>\n",
       "      <td>220</td>\n",
       "      <td>640</td>\n",
       "    </tr>\n",
       "  </tbody>\n",
       "</table>\n",
       "<p>99956 rows × 12 columns</p>\n",
       "</div>"
      ],
      "text/plain": [
       "       Order Day  Order Month  Order Year  Release Day  Release Month  \\\n",
       "0              9            1        2017            9             24   \n",
       "1              9            1        2017           11             23   \n",
       "2              9            1        2017           11             23   \n",
       "3              9            1        2017           11             23   \n",
       "4              9            1        2017            2             11   \n",
       "...          ...          ...         ...          ...            ...   \n",
       "99951          2           13        2019           12             26   \n",
       "99952          2           13        2019           12             26   \n",
       "99953          2           13        2019           12             26   \n",
       "99954          2           13        2019           12             26   \n",
       "99955          2           13        2019           12             26   \n",
       "\n",
       "       Release Year   Brand                                   Sneaker Name  \\\n",
       "0              2016   Yeezy           Adidas-Yeezy-Boost-350-Low-V2-Beluga   \n",
       "1              2016   Yeezy    Adidas-Yeezy-Boost-350-V2-Core-Black-Copper   \n",
       "2              2016   Yeezy     Adidas-Yeezy-Boost-350-V2-Core-Black-Green   \n",
       "3              2016   Yeezy       Adidas-Yeezy-Boost-350-V2-Core-Black-Red   \n",
       "4              2017   Yeezy  Adidas-Yeezy-Boost-350-V2-Core-Black-Red-2017   \n",
       "...             ...     ...                                            ...   \n",
       "99951          2018   Yeezy    adidas-Yeezy-Boost-350-V2-Static-Reflective   \n",
       "99952          2018   Yeezy    adidas-Yeezy-Boost-350-V2-Static-Reflective   \n",
       "99953          2018   Yeezy    adidas-Yeezy-Boost-350-V2-Static-Reflective   \n",
       "99954          2018   Yeezy    adidas-Yeezy-Boost-350-V2-Static-Reflective   \n",
       "99955          2018   Yeezy    adidas-Yeezy-Boost-350-V2-Static-Reflective   \n",
       "\n",
       "       Shoe Size  Buyer Region  Retail Price  Sale Price  \n",
       "0           11.0    California           220        1097  \n",
       "1           11.0    California           220         685  \n",
       "2           11.0    California           220         690  \n",
       "3           11.5      Kentucky           220        1075  \n",
       "4           11.0  Rhode Island           220         828  \n",
       "...          ...           ...           ...         ...  \n",
       "99951        8.0        Oregon           220         565  \n",
       "99952        8.5    California           220         598  \n",
       "99953        5.5      New York           220         605  \n",
       "99954       11.0    California           220         650  \n",
       "99955       11.5         Texas           220         640  \n",
       "\n",
       "[99956 rows x 12 columns]"
      ]
     },
     "execution_count": 57,
     "metadata": {},
     "output_type": "execute_result"
    }
   ],
   "source": [
    "data"
   ]
  },
  {
   "cell_type": "code",
   "execution_count": 58,
   "id": "1810ec4e",
   "metadata": {},
   "outputs": [],
   "source": [
    "os.makedirs('Model', exist_ok=True)"
   ]
  },
  {
   "cell_type": "code",
   "execution_count": 59,
   "id": "900bc1b3",
   "metadata": {},
   "outputs": [],
   "source": [
    "if not os.path.exists(os.path.join('Model', 'brand_le.pkl')):\n",
    "    brand_le = LabelEncoder()\n",
    "    brand_le.fit(data['Brand'])\n",
    "    pkl.dump(brand_le, open(os.path.join('Model','brand_le.pkl'), 'wb'))\n",
    "else:\n",
    "    brand_le = pkl.load(open(os.path.join('Model', 'brand_le.pkl'), 'rb'))\n",
    "        \n",
    "if not os.path.exists(os.path.join('Model', 'sneakerName_le.pkl')):\n",
    "    sneakerName_le = LabelEncoder()\n",
    "    sneakerName_le.fit(data['Sneaker Name'])\n",
    "    pkl.dump(sneakerName_le, open(os.path.join('Model','sneakerName_le.pkl'), 'wb'))\n",
    "else:\n",
    "    sneakerName_le = pkl.load(open(os.path.join('Model', 'sneakerName_le.pkl'), 'rb'))\n",
    "\n",
    "if not os.path.exists(os.path.join('Model', 'shoeSize_le.pkl')):\n",
    "    shoeSize_le = LabelEncoder()\n",
    "    shoeSize_le.fit(data['Shoe Size'])\n",
    "    pkl.dump(shoeSize_le, open(os.path.join('Model','shoeSize_le.pkl'), 'wb'))\n",
    "else:\n",
    "    shoeSize_le = pkl.load(open(os.path.join('Model', 'shoeSize_le.pkl'), 'rb'))\n",
    "\n",
    "if not os.path.exists(os.path.join('Model', 'buyerRegion_le.pkl')):\n",
    "    buyerRegion_le = LabelEncoder()\n",
    "    buyerRegion_le.fit(data['Buyer Region'])\n",
    "    pkl.dump(buyerRegion_le, open(os.path.join('Model','buyerRegion_le.pkl'), 'wb'))\n",
    "else:\n",
    "    buyerRegion_le = pkl.load(open(os.path.join('Model', 'buyerRegion_le.pkl'), 'rb'))"
   ]
  },
  {
   "cell_type": "code",
   "execution_count": 60,
   "id": "8b9a2439",
   "metadata": {},
   "outputs": [],
   "source": [
    "data['Brand'] = brand_le.transform(data['Brand'])\n",
    "data['Sneaker Name'] = sneakerName_le.transform(data['Sneaker Name'])\n",
    "data['Shoe Size'] = shoeSize_le.transform(data['Shoe Size'])\n",
    "data['Buyer Region'] = buyerRegion_le.transform(data['Buyer Region'])"
   ]
  },
  {
   "cell_type": "code",
   "execution_count": 61,
   "id": "b36a38cc",
   "metadata": {},
   "outputs": [
    {
     "name": "stdout",
     "output_type": "stream",
     "text": [
      "<class 'pandas.core.frame.DataFrame'>\n",
      "RangeIndex: 99956 entries, 0 to 99955\n",
      "Data columns (total 12 columns):\n",
      " #   Column         Non-Null Count  Dtype\n",
      "---  ------         --------------  -----\n",
      " 0   Order Day      99956 non-null  int64\n",
      " 1   Order Month    99956 non-null  int64\n",
      " 2   Order Year     99956 non-null  int64\n",
      " 3   Release Day    99956 non-null  int64\n",
      " 4   Release Month  99956 non-null  int64\n",
      " 5   Release Year   99956 non-null  int64\n",
      " 6   Brand          99956 non-null  int32\n",
      " 7   Sneaker Name   99956 non-null  int32\n",
      " 8   Shoe Size      99956 non-null  int64\n",
      " 9   Buyer Region   99956 non-null  int32\n",
      " 10  Retail Price   99956 non-null  int64\n",
      " 11  Sale Price     99956 non-null  int64\n",
      "dtypes: int32(3), int64(9)\n",
      "memory usage: 8.0 MB\n"
     ]
    }
   ],
   "source": [
    "data.info()"
   ]
  },
  {
   "cell_type": "code",
   "execution_count": 62,
   "id": "d1f7d823",
   "metadata": {},
   "outputs": [
    {
     "data": {
      "text/plain": [
       "((79965, 12), (19991, 12))"
      ]
     },
     "execution_count": 62,
     "metadata": {},
     "output_type": "execute_result"
    }
   ],
   "source": [
    "boundary = int(round(len(data)*0.8,0))\n",
    "training, testing = data.iloc[:boundary, :], data.iloc[boundary:, :]\n",
    "training.shape, testing.shape"
   ]
  },
  {
   "cell_type": "code",
   "execution_count": 63,
   "id": "310f1196",
   "metadata": {},
   "outputs": [
    {
     "data": {
      "text/plain": [
       "((79965, 11), (19991, 11), (79965,), (19991,))"
      ]
     },
     "execution_count": 63,
     "metadata": {},
     "output_type": "execute_result"
    }
   ],
   "source": [
    "X_train, X_test, y_train, y_test = training.iloc[:,:-1], testing.iloc[:,:-1], training.iloc[:,-1], testing.iloc[:,-1]\n",
    "X_train.shape, X_test.shape, y_train.shape, y_test.shape"
   ]
  },
  {
   "cell_type": "code",
   "execution_count": 76,
   "id": "11f5befb",
   "metadata": {},
   "outputs": [
    {
     "data": {
      "text/plain": [
       "0.2757120217938107"
      ]
     },
     "execution_count": 76,
     "metadata": {},
     "output_type": "execute_result"
    }
   ],
   "source": [
    "lr = LinearRegression()\n",
    "lr.fit(X_train, y_train)\n",
    "pred = lr.predict(X_test)\n",
    "abs(lr.score(X_test, y_test))"
   ]
  },
  {
   "cell_type": "code",
   "execution_count": 65,
   "id": "71a2bf8f",
   "metadata": {},
   "outputs": [],
   "source": [
    "if not os.path.exists(os.path.join('Model', 'regressor.pkl')):\n",
    "    pkl.dump(lr, open(os.path.join('Model', 'regressor.pkl'), 'wb'))\n",
    "else:\n",
    "    lr = pkl.load(open(os.path.join('Model', 'regressor.pkl'), 'rb'))"
   ]
  },
  {
   "cell_type": "code",
   "execution_count": null,
   "id": "9cbfbcda",
   "metadata": {},
   "outputs": [],
   "source": []
  }
 ],
 "metadata": {
  "kernelspec": {
   "display_name": "Python 3 (ipykernel)",
   "language": "python",
   "name": "python3"
  },
  "language_info": {
   "codemirror_mode": {
    "name": "ipython",
    "version": 3
   },
   "file_extension": ".py",
   "mimetype": "text/x-python",
   "name": "python",
   "nbconvert_exporter": "python",
   "pygments_lexer": "ipython3",
   "version": "3.9.12"
  }
 },
 "nbformat": 4,
 "nbformat_minor": 5
}
